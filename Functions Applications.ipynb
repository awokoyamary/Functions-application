{
 "cells": [
  {
   "cell_type": "code",
   "execution_count": 4,
   "id": "963e2744",
   "metadata": {},
   "outputs": [
    {
     "name": "stdout",
     "output_type": "stream",
     "text": [
      "8\n"
     ]
    }
   ],
   "source": [
    "def subtract_numbers(a,b):\n",
    "    me = a-b\n",
    "    return me\n",
    "print (subtract_numbers(10,2))\n"
   ]
  },
  {
   "cell_type": "code",
   "execution_count": 5,
   "id": "a7fcf740",
   "metadata": {},
   "outputs": [
    {
     "name": "stdout",
     "output_type": "stream",
     "text": [
      "55\n"
     ]
    }
   ],
   "source": [
    "def sum_of_numbers(n):\n",
    "    total = 0\n",
    "    for i in range(n+1):\n",
    "        total+=i\n",
    "    return total\n",
    "print(sum_of_numbers(10))"
   ]
  },
  {
   "cell_type": "code",
   "execution_count": 6,
   "id": "1f582e24",
   "metadata": {},
   "outputs": [
    {
     "data": {
      "text/plain": [
       "'murty'"
      ]
     },
     "execution_count": 6,
     "metadata": {},
     "output_type": "execute_result"
    }
   ],
   "source": [
    "#returning a value\n",
    "def print_name(first_name):\n",
    "    return first_name\n",
    "print_name('murty')"
   ]
  },
  {
   "cell_type": "code",
   "execution_count": 8,
   "id": "01abdd98",
   "metadata": {},
   "outputs": [
    {
     "name": "stdout",
     "output_type": "stream",
     "text": [
      "[0, 2, 4, 6, 8, 10]\n"
     ]
    }
   ],
   "source": [
    "#returning a list\n",
    "def find_even_numbers(n):\n",
    "    evens = []\n",
    "    for i in range(n+1):\n",
    "        if i %2 ==0:\n",
    "            evens.append(i)\n",
    "    return evens\n",
    "print(find_even_numbers(10))"
   ]
  },
  {
   "cell_type": "code",
   "execution_count": 2,
   "id": "76c062f6",
   "metadata": {},
   "outputs": [
    {
     "name": "stdout",
     "output_type": "stream",
     "text": [
      "194\n"
     ]
    }
   ],
   "source": [
    "def sum_all_nums(*nums):\n",
    "    total =0\n",
    "    for num in nums:\n",
    "        total += num #same as total = total + num\n",
    "    return total\n",
    "print (sum_all_nums(2,3,5,24,44,56,60))\n",
    "        "
   ]
  },
  {
   "cell_type": "code",
   "execution_count": 3,
   "id": "2f667090",
   "metadata": {},
   "outputs": [
    {
     "name": "stdout",
     "output_type": "stream",
     "text": [
      "Team-1\n",
      "Temi\n",
      "Bake\n",
      "Tayo\n",
      "Ayo\n",
      "None\n"
     ]
    }
   ],
   "source": [
    "def generate_groups(team, *args):\n",
    "    print(team)\n",
    "    for i in args:\n",
    "        print(i)\n",
    "print(generate_groups('Team-1', 'Temi','Bake', 'Tayo', 'Ayo'))"
   ]
  },
  {
   "cell_type": "code",
   "execution_count": null,
   "id": "a0b8b5f8",
   "metadata": {},
   "outputs": [],
   "source": []
  }
 ],
 "metadata": {
  "kernelspec": {
   "display_name": "Python 3 (ipykernel)",
   "language": "python",
   "name": "python3"
  },
  "language_info": {
   "codemirror_mode": {
    "name": "ipython",
    "version": 3
   },
   "file_extension": ".py",
   "mimetype": "text/x-python",
   "name": "python",
   "nbconvert_exporter": "python",
   "pygments_lexer": "ipython3",
   "version": "3.11.5"
  }
 },
 "nbformat": 4,
 "nbformat_minor": 5
}
